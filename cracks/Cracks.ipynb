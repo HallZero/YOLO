{
  "cells": [
    {
      "cell_type": "markdown",
      "metadata": {
        "id": "NV0Pm56UI4p6"
      },
      "source": [
        "#Instalação das bibliotecas\n"
      ]
    },
    {
      "cell_type": "code",
      "execution_count": null,
      "metadata": {
        "id": "RoEMHF_tBmMF"
      },
      "outputs": [],
      "source": [
        "%pip install ultralytics\n",
        "%pip install roboflow"
      ]
    },
    {
      "cell_type": "markdown",
      "metadata": {
        "id": "n_iu9O8gJFib"
      },
      "source": [
        "#Importação das bibliotecas & criação do dataset\n",
        "\n",
        "Nesta sessão, importamos as bibliotecas ultralytics e roboflow.\n",
        "\n",
        "Definimos também o dataset que queremos utilizar fazendo o download a partir do nome do workspace e do projeto. "
      ]
    },
    {
      "cell_type": "code",
      "execution_count": null,
      "metadata": {
        "id": "a0huBHbkB7-7"
      },
      "outputs": [],
      "source": [
        "from ultralytics import YOLO\n",
        "from roboflow import Roboflow\n",
        "\n",
        "rf = Roboflow(api_key=\"****************\")\n",
        "project = rf.workspace(\"university-bswxt\").project(\"crack-bphdr\")\n",
        "dataset = project.version(2).download(\"yolov8\")"
      ]
    },
    {
      "cell_type": "markdown",
      "metadata": {
        "id": "zeUzDFN3KEkI"
      },
      "source": [
        "#Treino do modelo\n",
        "\n",
        "Nesta cédula, ocorre o treino efetivo do modelo, o qual vai gerar dois arquivos .pt que utilizaremos localmente juntamente com o OpenCV. Determinamos 15 épocas e batch size de 64."
      ]
    },
    {
      "cell_type": "code",
      "execution_count": null,
      "metadata": {
        "id": "WsVNAn_NpFZM"
      },
      "outputs": [],
      "source": [
        "!yolo train model=yolov8n.pt data=/content/crack-2/data.yaml epochs=15 batch=64 lr0=0.01"
      ]
    }
  ],
  "metadata": {
    "accelerator": "GPU",
    "colab": {
      "gpuType": "T4",
      "provenance": []
    },
    "gpuClass": "standard",
    "kernelspec": {
      "display_name": "Python 3",
      "name": "python3"
    },
    "language_info": {
      "name": "python"
    }
  },
  "nbformat": 4,
  "nbformat_minor": 0
}
